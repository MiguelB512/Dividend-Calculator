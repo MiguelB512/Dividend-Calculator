{
 "cells": [
  {
   "cell_type": "markdown",
   "id": "3617034d",
   "metadata": {},
   "source": [
    "# WORKS, BUT MATH IS WRONG"
   ]
  },
  {
   "cell_type": "code",
   "execution_count": 1,
   "id": "1aba1fd7",
   "metadata": {},
   "outputs": [
    {
     "name": "stdout",
     "output_type": "stream",
     "text": [
      "Profits: [1150.0, 2357.5, 3625.375, 4956.64375, 6354.4759375]\n"
     ]
    }
   ],
   "source": [
    "def dividend_calculator(investment, rate, num_additional_investments, weekly, num_iterations):\n",
    "    total_investment = investment  # store the initial investment\n",
    "    initial_investment = investment\n",
    "    weekly = weekly\n",
    "    rate = rate\n",
    "    counter = 0\n",
    "    profits = []  # create an empty list to store the profits\n",
    "    while counter < num_iterations:\n",
    "        annual_dividend = total_investment * rate\n",
    "        total_investment += annual_dividend\n",
    "        total_investment += num_additional_investments * weekly + initial_investment\n",
    "        quarterly_dividend_profit = (total_investment - initial_investment) / 4\n",
    "        profit = total_investment - initial_investment  # calculate profit\n",
    "        profits.append(profit)  # add the profit to the list\n",
    "        counter += 1\n",
    "    return profits\n",
    "\n",
    "investment = 1000\n",
    "rate = 0.05\n",
    "num_additional_investments = 2\n",
    "weekly = 50\n",
    "num_iterations = 5\n",
    "\n",
    "profits = dividend_calculator(investment, rate, num_additional_investments, weekly, num_iterations)\n",
    "print(f'Profits: {profits}')"
   ]
  },
  {
   "cell_type": "markdown",
   "id": "cd780400",
   "metadata": {},
   "source": [
    "# WORKS BUT STILL WIP"
   ]
  },
  {
   "cell_type": "code",
   "execution_count": 18,
   "id": "17f01bbb",
   "metadata": {},
   "outputs": [
    {
     "name": "stdout",
     "output_type": "stream",
     "text": [
      "1050.0\n",
      "1102.5\n",
      "1157.625\n",
      "1215.50625\n",
      "1276.2815624999998\n",
      "1340.0956406249998\n",
      "1407.10042265625\n",
      "1477.4554437890624\n",
      "1551.3282159785158\n",
      "1628.8946267774418\n"
     ]
    }
   ],
   "source": [
    "def dividend_calculator(investment, rate, num_additional_investments, weekly, num_iterations):\n",
    "    total_investment = investment  # store the initial investment\n",
    "    initial_investment = investment\n",
    "    weekly = weekly\n",
    "    rate = rate\n",
    "    counter = 0\n",
    "    profits = []  # create an empty list to store the profits\n",
    "    while counter < num_iterations:\n",
    "        shares = total_investment / price\n",
    "        annual_dividend = total_investment * rate\n",
    "        total_investment += annual_dividend\n",
    "        total_investment += num_additional_investments * weekly + initial_investment\n",
    "        quarterly_dividend_profit = (total_investment - initial_investment) / 4\n",
    "        profit = total_investment - initial_investment  # calculate profit\n",
    "        total_investment = profit\n",
    "        profits.append(profit)  # add the profit to the list\n",
    "        counter += 1\n",
    "    return profits\n",
    "\n",
    "investment = 1000\n",
    "rate = 0.05\n",
    "num_additional_investments = 2\n",
    "weekly = 0\n",
    "num_iterations = 10\n",
    "\n",
    "profits = dividend_calculator(investment, rate, num_additional_investments, weekly, num_iterations)\n",
    "\n",
    "# Print each element of the profits list individually\n",
    "for profit in profits:\n",
    "    print(profit)"
   ]
  },
  {
   "cell_type": "code",
   "execution_count": 22,
   "id": "873313b1",
   "metadata": {},
   "outputs": [
    {
     "name": "stdout",
     "output_type": "stream",
     "text": [
      "1050.0\n",
      "1152.5\n",
      "1312.625\n",
      "1538.38125\n",
      "1841.0565625\n",
      "2235.784703125\n",
      "2742.30207890625\n",
      "3385.9345586328127\n",
      "4198.863766291016\n",
      "5221.73616226377\n"
     ]
    }
   ],
   "source": [
    "def dividend_calculator(investment, rate, num_additional_investments, weekly, num_iterations, shares, price):\n",
    "    total_investment = investment  # store the initial investment\n",
    "    initial_investment = investment\n",
    "    weekly = weekly\n",
    "    rate = rate\n",
    "    shares= shares\n",
    "    price = price\n",
    "    counter = 0\n",
    "    profits = []  # create an empty list to store the profits\n",
    "    while counter < num_iterations:\n",
    "        shares += total_investment / price\n",
    "        annual_dividend = shares * rate * price\n",
    "        total_investment += annual_dividend\n",
    "        total_investment += num_additional_investments * weekly + initial_investment\n",
    "        quarterly_dividend_profit = (total_investment - initial_investment) / 4\n",
    "        new_prof = (1 + rate)\n",
    "#         profit = pow(new_prof, num_iterations)\n",
    "        profit = total_investment - initial_investment  # calculate profit\n",
    "        total_investment = profit\n",
    "        profits.append(profit)  # add the profit to the list\n",
    "        counter += 1\n",
    "    return profits\n",
    "\n",
    "# Run the dividend calculator\n",
    "investment = 1000\n",
    "rate = 0.05\n",
    "num_additional_investments = 2\n",
    "weekly = 0\n",
    "num_iterations = 10\n",
    "shares = 0\n",
    "price = 1\n",
    "profits = dividend_calculator(investment, rate, num_additional_investments, weekly, num_iterations, shares, price)\n",
    "\n",
    "# Print each element of the profits list individually\n",
    "for profit in profits:\n",
    "    print(profit)"
   ]
  },
  {
   "cell_type": "code",
   "execution_count": null,
   "id": "f483f63c",
   "metadata": {},
   "outputs": [],
   "source": []
  }
 ],
 "metadata": {
  "kernelspec": {
   "display_name": "Python 3 (ipykernel)",
   "language": "python",
   "name": "python3"
  },
  "language_info": {
   "codemirror_mode": {
    "name": "ipython",
    "version": 3
   },
   "file_extension": ".py",
   "mimetype": "text/x-python",
   "name": "python",
   "nbconvert_exporter": "python",
   "pygments_lexer": "ipython3",
   "version": "3.9.12"
  }
 },
 "nbformat": 4,
 "nbformat_minor": 5
}

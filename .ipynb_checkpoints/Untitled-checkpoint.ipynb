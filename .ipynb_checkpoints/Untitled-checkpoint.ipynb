{
 "cells": [
  {
   "cell_type": "code",
   "execution_count": null,
   "id": "530ee388",
   "metadata": {},
   "outputs": [],
   "source": [
    "def dividend_calculator(investment, rate):\n",
    "  total_investment = investment\n",
    "  while True:\n",
    "    annual_dividend = total_investment * rate\n",
    "    total_investment += annual_dividend\n",
    "    yield total_investment / 4\n",
    "\n",
    "investment = 1000\n",
    "rate = 0.05\n",
    "dividend_calculator(investment, rate):\n",
    "  print(dividend_calculator)"
   ]
  },
  {
   "cell_type": "code",
   "execution_count": null,
   "id": "6e403473",
   "metadata": {},
   "outputs": [],
   "source": []
  }
 ],
 "metadata": {
  "kernelspec": {
   "display_name": "PythonData",
   "language": "python",
   "name": "pythondata"
  },
  "language_info": {
   "codemirror_mode": {
    "name": "ipython",
    "version": 3
   },
   "file_extension": ".py",
   "mimetype": "text/x-python",
   "name": "python",
   "nbconvert_exporter": "python",
   "pygments_lexer": "ipython3",
   "version": "3.6.7"
  }
 },
 "nbformat": 4,
 "nbformat_minor": 5
}
